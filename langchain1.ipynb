{
 "cells": [
  {
   "cell_type": "markdown",
   "metadata": {},
   "source": [
    "[Tutorial URL](https://python.langchain.com/docs/get_started/quickstart)\n"
   ]
  },
  {
   "cell_type": "code",
   "execution_count": 1,
   "metadata": {
    "dotnet_interactive": {
     "language": "csharp"
    },
    "polyglot_notebook": {
     "kernelName": "csharp"
    }
   },
   "outputs": [
    {
     "name": "stdout",
     "output_type": "stream",
     "text": [
      "\u001b[1mLoading .env environment variables...\u001b[0m\n",
      "\u001b[32mCourtesy Notice\u001b[0m: Pipenv found itself running within a virtual environment, so it will automatically use that environment, instead of creating its own for any project. You can set \u001b[1mPIPENV_IGNORE_VIRTUALENVS=1\u001b[0m to force pipenv to ignore that environment and create its own instead. You can set \u001b[1mPIPENV_VERBOSITY=-1\u001b[0m to suppress this warning.\n",
      "\u001b[1;32mInstalling langchain-openai\u001b[0m\u001b[1;33m...\u001b[0m\n",
      "\u001b[?25lResolving langchain-openai\u001b[33m...\u001b[0m\n",
      "\u001b[2K✔ Installation Succeeded\n",
      "\u001b[2K\u001b[32m⠋\u001b[0m Installing langchain-openai...\n",
      "\u001b[1A\u001b[2K\u001b[1mInstalling dependencies from Pipfile.lock \u001b[0m\u001b[1m(\u001b[0m\u001b[1mf18864\u001b[0m\u001b[1m)\u001b[0m\u001b[1;33m...\u001b[0m\n",
      "To activate this project's virtualenv, run \u001b[33mpipenv shell\u001b[0m.\n",
      "Alternatively, run a command inside the virtualenv with \u001b[33mpipenv run\u001b[0m.\n",
      "\u001b[1mLoading .env environment variables...\u001b[0m\n",
      "\u001b[32mCourtesy Notice\u001b[0m: Pipenv found itself running within a virtual environment, so it will automatically use that environment, instead of creating its own for any project. You can set \u001b[1mPIPENV_IGNORE_VIRTUALENVS=1\u001b[0m to force pipenv to ignore that environment and create its own instead. You can set \u001b[1mPIPENV_VERBOSITY=-1\u001b[0m to suppress this warning.\n",
      "\u001b[1;32mInstalling beautifulsoup4\u001b[0m\u001b[1;33m...\u001b[0m\n",
      "\u001b[?25lResolving beautifulsoup4\u001b[33m...\u001b[0m\n",
      "\u001b[2K✔ Installation Succeeded\n",
      "\u001b[2K\u001b[32m⠋\u001b[0m Installing beautifulsoup4...\n",
      "\u001b[1A\u001b[2K\u001b[1mInstalling dependencies from Pipfile.lock \u001b[0m\u001b[1m(\u001b[0m\u001b[1mf18864\u001b[0m\u001b[1m)\u001b[0m\u001b[1;33m...\u001b[0m\n",
      "To activate this project's virtualenv, run \u001b[33mpipenv shell\u001b[0m.\n",
      "Alternatively, run a command inside the virtualenv with \u001b[33mpipenv run\u001b[0m.\n",
      "\u001b[1mLoading .env environment variables...\u001b[0m\n",
      "\u001b[32mCourtesy Notice\u001b[0m: Pipenv found itself running within a virtual environment, so it will automatically use that environment, instead of creating its own for any project. You can set \u001b[1mPIPENV_IGNORE_VIRTUALENVS=1\u001b[0m to force pipenv to ignore that environment and create its own instead. You can set \u001b[1mPIPENV_VERBOSITY=-1\u001b[0m to suppress this warning.\n",
      "\u001b[1;32mInstalling langchain-community\u001b[0m\u001b[1;33m...\u001b[0m\n",
      "\u001b[?25lResolving langchain-community\u001b[33m...\u001b[0m\n",
      "\u001b[2K✔ Installation Succeeded\n",
      "\u001b[2K\u001b[32m⠋\u001b[0m Installing langchain-community...\n",
      "\u001b[1A\u001b[2K\u001b[1mInstalling dependencies from Pipfile.lock \u001b[0m\u001b[1m(\u001b[0m\u001b[1mf18864\u001b[0m\u001b[1m)\u001b[0m\u001b[1;33m...\u001b[0m\n",
      "To activate this project's virtualenv, run \u001b[33mpipenv shell\u001b[0m.\n",
      "Alternatively, run a command inside the virtualenv with \u001b[33mpipenv run\u001b[0m.\n",
      "\u001b[1mLoading .env environment variables...\u001b[0m\n",
      "\u001b[32mCourtesy Notice\u001b[0m: Pipenv found itself running within a virtual environment, so it will automatically use that environment, instead of creating its own for any project. You can set \u001b[1mPIPENV_IGNORE_VIRTUALENVS=1\u001b[0m to force pipenv to ignore that environment and create its own instead. You can set \u001b[1mPIPENV_VERBOSITY=-1\u001b[0m to suppress this warning.\n",
      "\u001b[1;32mInstalling faiss-cpu\u001b[0m\u001b[1;33m...\u001b[0m\n",
      "\u001b[?25lResolving faiss-cpu\u001b[33m...\u001b[0m\n",
      "\u001b[2K✔ Installation Succeeded\n",
      "\u001b[2K\u001b[32m⠋\u001b[0m Installing faiss-cpu...\n",
      "\u001b[1A\u001b[2K\u001b[1mInstalling dependencies from Pipfile.lock \u001b[0m\u001b[1m(\u001b[0m\u001b[1mf18864\u001b[0m\u001b[1m)\u001b[0m\u001b[1;33m...\u001b[0m\n",
      "To activate this project's virtualenv, run \u001b[33mpipenv shell\u001b[0m.\n",
      "Alternatively, run a command inside the virtualenv with \u001b[33mpipenv run\u001b[0m.\n",
      "\u001b[1mLoading .env environment variables...\u001b[0m\n",
      "\u001b[32mCourtesy Notice\u001b[0m: Pipenv found itself running within a virtual environment, so it will automatically use that environment, instead of creating its own for any project. You can set \u001b[1mPIPENV_IGNORE_VIRTUALENVS=1\u001b[0m to force pipenv to ignore that environment and create its own instead. You can set \u001b[1mPIPENV_VERBOSITY=-1\u001b[0m to suppress this warning.\n",
      "\u001b[1;32mInstalling langchain\u001b[0m\u001b[1;33m...\u001b[0m\n",
      "\u001b[?25lResolving langchain\u001b[33m...\u001b[0m\n",
      "\u001b[2K✔ Installation Succeeded\n",
      "\u001b[2K\u001b[32m⠋\u001b[0m Installing langchain...\n",
      "\u001b[1A\u001b[2K\u001b[1mInstalling dependencies from Pipfile.lock \u001b[0m\u001b[1m(\u001b[0m\u001b[1mf18864\u001b[0m\u001b[1m)\u001b[0m\u001b[1;33m...\u001b[0m\n",
      "To activate this project's virtualenv, run \u001b[33mpipenv shell\u001b[0m.\n",
      "Alternatively, run a command inside the virtualenv with \u001b[33mpipenv run\u001b[0m.\n"
     ]
    }
   ],
   "source": [
    "!pipenv install langchain-openai\n",
    "!pipenv install beautifulsoup4\n",
    "!pipenv install langchain-community\n",
    "!pipenv install faiss-cpu\n",
    "!pipenv install langchain"
   ]
  },
  {
   "cell_type": "code",
   "execution_count": 2,
   "metadata": {},
   "outputs": [],
   "source": [
    "# pipenv loads the environment variables from the .env file\n",
    "# get OPENAI_API_KEY from the .env file\n",
    "# type: ignore\n",
    "OPENAI_API_KEY = %env OPENAI_API_KEY"
   ]
  },
  {
   "cell_type": "code",
   "execution_count": 3,
   "metadata": {},
   "outputs": [],
   "source": [
    "from langchain_openai import ChatOpenAI\n",
    "llm = ChatOpenAI(openai_api_key=OPENAI_API_KEY)"
   ]
  },
  {
   "cell_type": "code",
   "execution_count": 4,
   "metadata": {},
   "outputs": [
    {
     "data": {
      "text/plain": [
       "AIMessage(content=\"Langsmith can help with testing in the following ways:\\n\\n1. Test Case Generation: Langsmith can generate test cases automatically based on the specifications provided. It uses techniques like symbolic execution and constraint solving to generate a wide range of test cases, covering different execution paths and edge cases.\\n\\n2. Test Automation: Langsmith can automate the execution of test cases by generating code that interacts with the system under test. This eliminates the need for manual test execution, saving time and effort.\\n\\n3. Test Oracles: Langsmith can also automatically generate test oracles, which are mechanisms to determine the correctness of the system's output. It can compare the expected output with the actual output and identify any deviations or errors.\\n\\n4. Test Coverage Analysis: Langsmith can analyze the coverage of the generated test cases, indicating which parts of the code or system are exercised by the tests and which parts are not. This helps in identifying any gaps in the test suite.\\n\\n5. Regression Testing: Langsmith can help in automating regression testing, which involves retesting a modified system to ensure that the existing functionality is not affected. It can generate test cases specifically targeting the modified areas, reducing the effort required for regression testing.\\n\\n6. Performance Testing: Langsmith can generate test cases to assess the performance of the system under different load conditions. It can simulate a large number of users or requests to evaluate the system's response time, throughput, and scalability.\\n\\nOverall, Langsmith can significantly speed up the testing process, improve test coverage, and ensure the quality and reliability of the software under test.\")"
      ]
     },
     "execution_count": 4,
     "metadata": {},
     "output_type": "execute_result"
    }
   ],
   "source": [
    "llm.invoke(\"how can langsmith help with testing?\")"
   ]
  },
  {
   "cell_type": "code",
   "execution_count": 5,
   "metadata": {},
   "outputs": [],
   "source": [
    "from langchain_core.prompts import ChatPromptTemplate\n",
    "prompt = ChatPromptTemplate.from_messages([\n",
    "    ('system', 'You are world class technical documentation writer.'),\n",
    "    ('user', '{input}')\n",
    "])\n"
   ]
  },
  {
   "cell_type": "code",
   "execution_count": 6,
   "metadata": {},
   "outputs": [
    {
     "data": {
      "text/plain": [
       "AIMessage(content=\"Langsmith can assist with testing in several ways:\\n\\n1. Test Case Documentation: Langsmith can generate detailed test case documentation based on the specifications provided. It ensures that all possible scenarios and edge cases are covered in the testing process.\\n\\n2. Test Data Generation: Langsmith can automatically generate test data sets, including both valid and invalid data, for thorough testing. This helps uncover hidden bugs and ensures comprehensive test coverage.\\n\\n3. Test Script Generation: Langsmith can generate test scripts or test code snippets in various programming languages, based on the specified test cases. This saves time and effort for testers, allowing them to focus on executing tests rather than writing code.\\n\\n4. Test Automation: Langsmith can assist in automating the testing process by generating automation scripts or integrating with existing test automation frameworks. This accelerates the testing cycle and improves efficiency.\\n\\n5. Test Report Generation: Langsmith can generate comprehensive test reports with detailed results, including pass/fail status, error logs, and performance metrics. This helps testers and stakeholders to track progress, identify issues, and make data-driven decisions.\\n\\n6. Test Environment Setup: Langsmith can provide guidelines and documentation for setting up the required test environments, including hardware, software, and network configurations. This ensures consistency and reproducibility of testing across different environments.\\n\\nOverall, Langsmith's capabilities in documentation generation, test script automation, and test data generation can greatly streamline the testing process, improve test coverage, and enhance the overall quality of the software being tested.\")"
      ]
     },
     "execution_count": 6,
     "metadata": {},
     "output_type": "execute_result"
    }
   ],
   "source": [
    "chain = prompt | llm\n",
    "chain.invoke({\"input\": \"how can langsmith help with testing?\"})"
   ]
  },
  {
   "cell_type": "code",
   "execution_count": 7,
   "metadata": {},
   "outputs": [],
   "source": [
    "from langchain_core.output_parsers import StrOutputParser\n",
    "\n",
    "output_parser = StrOutputParser()"
   ]
  },
  {
   "cell_type": "code",
   "execution_count": 8,
   "metadata": {},
   "outputs": [],
   "source": [
    "chain = prompt | llm | output_parser"
   ]
  },
  {
   "cell_type": "code",
   "execution_count": 9,
   "metadata": {},
   "outputs": [
    {
     "data": {
      "text/plain": [
       "'Langsmith can greatly help with testing by providing a powerful tool for automating the testing process. Here are a few ways in which Langsmith can assist with testing:\\n\\n1. Test Case Generation: Langsmith can generate test cases automatically based on predefined specifications or requirements. This saves time and effort compared to manually writing test cases, especially for complex systems.\\n\\n2. Test Execution: Langsmith can execute test cases and validate the expected outcomes. It can handle both functional and non-functional testing, such as performance, security, and usability testing.\\n\\n3. Test Data Management: Langsmith can generate and manage test data, ensuring that the tests cover a wide range of scenarios and edge cases. It can also handle data-driven testing, where tests are executed with different sets of input data.\\n\\n4. Test Reporting: Langsmith can generate detailed reports after test execution, providing insights into the test coverage, pass/fail status, and any defects found. These reports can be helpful for tracking the progress of testing and communicating the results to stakeholders.\\n\\n5. Integration Testing: Langsmith can facilitate integration testing by simulating the behavior of external systems or components. This is particularly useful when testing complex, interconnected systems where manual testing may be impractical or time-consuming.\\n\\n6. Continuous Integration/Continuous Deployment (CI/CD) Integration: Langsmith can be integrated into CI/CD pipelines, allowing tests to be executed automatically whenever changes are made to the software. This ensures that any regressions or issues are identified early in the development process.\\n\\nOverall, Langsmith simplifies and streamlines the testing process, improving efficiency, accuracy, and coverage. It can be a valuable asset for quality assurance teams and developers alike, enhancing the reliability and stability of software products.'"
      ]
     },
     "execution_count": 9,
     "metadata": {},
     "output_type": "execute_result"
    }
   ],
   "source": [
    "chain.invoke({\"input\": \"how can langsmith help with testing?\"})"
   ]
  },
  {
   "cell_type": "code",
   "execution_count": 10,
   "metadata": {},
   "outputs": [],
   "source": [
    "from langchain_community.document_loaders import WebBaseLoader\n",
    "loader = WebBaseLoader(\"https://docs.smith.langchain.com/overview\")\n",
    "\n",
    "docs = loader.load()"
   ]
  },
  {
   "cell_type": "code",
   "execution_count": 11,
   "metadata": {},
   "outputs": [],
   "source": [
    "from langchain_openai import OpenAIEmbeddings\n",
    "embeddings = OpenAIEmbeddings(openai_api_key=OPENAI_API_KEY)\n"
   ]
  },
  {
   "cell_type": "code",
   "execution_count": 12,
   "metadata": {},
   "outputs": [
    {
     "data": {
      "text/plain": [
       "<langchain_community.vectorstores.faiss.FAISS at 0x1344d0b50>"
      ]
     },
     "execution_count": 12,
     "metadata": {},
     "output_type": "execute_result"
    }
   ],
   "source": [
    "from langchain_community.vectorstores import FAISS\n",
    "from langchain.text_splitter import RecursiveCharacterTextSplitter\n",
    "\n",
    "text_splitter = RecursiveCharacterTextSplitter()\n",
    "documents = text_splitter.split_documents(docs)\n",
    "vector = FAISS.from_documents(documents, embeddings)\n",
    "vector"
   ]
  },
  {
   "cell_type": "code",
   "execution_count": 13,
   "metadata": {},
   "outputs": [],
   "source": [
    "from langchain.chains.combine_documents import create_stuff_documents_chain\n",
    "\n",
    "prompt = ChatPromptTemplate.from_template(\"\"\"Answer the following question based only on the provided context:\n",
    "                                          <context>\n",
    "                                          {context}\n",
    "                                          </context>\n",
    "\n",
    "                                          Question: {input}\"\"\")\n",
    "document_chain = create_stuff_documents_chain(llm, prompt)"
   ]
  },
  {
   "cell_type": "code",
   "execution_count": 14,
   "metadata": {},
   "outputs": [],
   "source": [
    "from langchain.chains import create_retrieval_chain\n",
    "retriever = vector.as_retriever()\n",
    "retrieval_chain = create_retrieval_chain(retriever, document_chain)"
   ]
  },
  {
   "cell_type": "code",
   "execution_count": 15,
   "metadata": {},
   "outputs": [
    {
     "name": "stdout",
     "output_type": "stream",
     "text": [
      "LangSmith can help with testing in several ways. It allows users to construct datasets and use them to test changes to prompts or chains. Users can run the chain over the data points and visualize the outputs, and they can easily assign feedback to runs and mark them as correct or incorrect. LangSmith also provides evaluators that can be used to evaluate the results of the test runs, although they may not be perfect. Additionally, LangSmith offers annotation queues that allow users to manually review and annotate runs, assessing subjective qualities and validating auto-evaluated runs.\n"
     ]
    }
   ],
   "source": [
    "response = retrieval_chain.invoke({\"input\": \"how can langsmith help with testing?\"})\n",
    "print(response['answer'])"
   ]
  }
 ],
 "metadata": {
  "kernelspec": {
   "display_name": "Python 3",
   "language": "python",
   "name": "python3"
  },
  "language_info": {
   "codemirror_mode": {
    "name": "ipython",
    "version": 3
   },
   "file_extension": ".py",
   "mimetype": "text/x-python",
   "name": "python",
   "nbconvert_exporter": "python",
   "pygments_lexer": "ipython3",
   "version": "3.11.8"
  },
  "polyglot_notebook": {
   "kernelInfo": {
    "defaultKernelName": "csharp",
    "items": [
     {
      "aliases": [],
      "name": "csharp"
     }
    ]
   }
  }
 },
 "nbformat": 4,
 "nbformat_minor": 2
}
