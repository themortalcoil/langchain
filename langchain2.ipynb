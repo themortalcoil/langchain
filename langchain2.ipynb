{
 "cells": [
  {
   "cell_type": "markdown",
   "metadata": {},
   "source": [
    "[Tutorial URL](https://python.langchain.com/docs/get_started/quickstart)"
   ]
  },
  {
   "cell_type": "code",
   "execution_count": 1,
   "metadata": {
    "dotnet_interactive": {
     "language": "csharp"
    },
    "polyglot_notebook": {
     "kernelName": "csharp"
    }
   },
   "outputs": [
    {
     "name": "stdout",
     "output_type": "stream",
     "text": [
      "\u001b[1mLoading .env environment variables...\u001b[0m\n",
      "\u001b[32m\u001b[1mInstalling langchain-openai...\u001b[0m\n",
      "\u001b[K\u001b[1mAdding\u001b[0m \u001b[32m\u001b[1mlangchain-openai\u001b[0m \u001b[1mto Pipfile's\u001b[0m \u001b[33m\u001b[1m[packages]\u001b[0m\u001b[1m...\u001b[0m\n",
      "\u001b[K\u001b[?25h✔ Installation Succeeded\u001b[0m \n",
      "\u001b[33m\u001b[1mPipfile.lock (02018d) out of date, updating to (acd786)...\u001b[0m\n",
      "Locking\u001b[0m \u001b[33m[packages]\u001b[0m dependencies...\u001b[0m\n",
      "\u001b[KBuilding requirements...\n",
      "\u001b[KResolving dependencies...\n",
      "\u001b[K\u001b[?25h\u001b[32m\u001b[22m✔ Success!\u001b[39m\u001b[22m\u001b[0m \n",
      "Locking\u001b[0m \u001b[33m[dev-packages]\u001b[0m dependencies...\u001b[0m\n",
      "\u001b[KBuilding requirements...\n",
      "\u001b[KResolving dependencies...\n",
      "\u001b[K\u001b[?25h\u001b[32m\u001b[22m✔ Success!\u001b[39m\u001b[22m\u001b[0m \n",
      "\u001b[1mUpdated Pipfile.lock (7b9496c75a4d5f04c79bfa2cd38d8159f33021bf138100d119f89c90b1acd786)!\u001b[0m\n",
      "\u001b[1mInstalling dependencies from Pipfile.lock (acd786)...\u001b[0m\n",
      "\u001b[0m\u001b[1mLoading .env environment variables...\u001b[0m\n",
      "\u001b[32m\u001b[1mInstalling beautifulsoup4...\u001b[0m\n",
      "\u001b[K\u001b[1mAdding\u001b[0m \u001b[32m\u001b[1mbeautifulsoup4\u001b[0m \u001b[1mto Pipfile's\u001b[0m \u001b[33m\u001b[1m[packages]\u001b[0m\u001b[1m...\u001b[0m\n",
      "\u001b[K\u001b[?25h✔ Installation Succeeded\u001b[0m \n",
      "\u001b[1mInstalling dependencies from Pipfile.lock (acd786)...\u001b[0m\n",
      "\u001b[0m\u001b[1mLoading .env environment variables...\u001b[0m\n",
      "\u001b[32m\u001b[1mInstalling langchain-community...\u001b[0m\n",
      "\u001b[K\u001b[1mAdding\u001b[0m \u001b[32m\u001b[1mlangchain-community\u001b[0m \u001b[1mto Pipfile's\u001b[0m \u001b[33m\u001b[1m[packages]\u001b[0m\u001b[1m...\u001b[0m\n",
      "\u001b[K\u001b[?25h✔ Installation Succeeded\u001b[0m \n",
      "\u001b[1mInstalling dependencies from Pipfile.lock (acd786)...\u001b[0m\n",
      "\u001b[0m\u001b[1mLoading .env environment variables...\u001b[0m\n",
      "\u001b[32m\u001b[1mInstalling faiss-cpu...\u001b[0m\n",
      "\u001b[K\u001b[1mAdding\u001b[0m \u001b[32m\u001b[1mfaiss-cpu\u001b[0m \u001b[1mto Pipfile's\u001b[0m \u001b[33m\u001b[1m[packages]\u001b[0m\u001b[1m...\u001b[0m\n",
      "\u001b[K\u001b[?25h✔ Installation Succeeded\u001b[0m \n",
      "\u001b[1mInstalling dependencies from Pipfile.lock (acd786)...\u001b[0m\n",
      "\u001b[0m\u001b[1mLoading .env environment variables...\u001b[0m\n",
      "\u001b[32m\u001b[1mInstalling langchain...\u001b[0m\n",
      "\u001b[K\u001b[1mAdding\u001b[0m \u001b[32m\u001b[1mlangchain\u001b[0m \u001b[1mto Pipfile's\u001b[0m \u001b[33m\u001b[1m[packages]\u001b[0m\u001b[1m...\u001b[0m\n",
      "\u001b[K\u001b[?25h✔ Installation Succeeded\u001b[0m \n",
      "\u001b[1mInstalling dependencies from Pipfile.lock (acd786)...\u001b[0m\n",
      "\u001b[0m\u001b[1mLoading .env environment variables...\u001b[0m\n",
      "\u001b[32m\u001b[1mInstalling python-dotenv...\u001b[0m\n",
      "\u001b[K\u001b[1mAdding\u001b[0m \u001b[32m\u001b[1mpython-dotenv\u001b[0m \u001b[1mto Pipfile's\u001b[0m \u001b[33m\u001b[1m[packages]\u001b[0m\u001b[1m...\u001b[0m\n",
      "\u001b[K\u001b[?25h✔ Installation Succeeded\u001b[0m \n",
      "\u001b[1mInstalling dependencies from Pipfile.lock (acd786)...\u001b[0m\n",
      "\u001b[0m"
     ]
    }
   ],
   "source": [
    "# Install the required packages\n",
    "\n",
    "!pipenv install langchain-openai\n",
    "!pipenv install beautifulsoup4\n",
    "!pipenv install langchain-community\n",
    "!pipenv install faiss-cpu\n",
    "!pipenv install langchain\n",
    "!pipenv install python-dotenv"
   ]
  },
  {
   "cell_type": "code",
   "execution_count": 2,
   "metadata": {},
   "outputs": [
    {
     "name": "stdout",
     "output_type": "stream",
     "text": [
      "The .env file has been loaded\n"
     ]
    },
    {
     "ename": "NameError",
     "evalue": "name 'OPENAI_API_KEY' is not defined",
     "output_type": "error",
     "traceback": [
      "\u001b[0;31m---------------------------------------------------------------------------\u001b[0m",
      "\u001b[0;31mNameError\u001b[0m                                 Traceback (most recent call last)",
      "Cell \u001b[0;32mIn[2], line 5\u001b[0m\n\u001b[1;32m      3\u001b[0m get_ipython()\u001b[38;5;241m.\u001b[39mrun_line_magic(\u001b[38;5;124m'\u001b[39m\u001b[38;5;124mdotenv\u001b[39m\u001b[38;5;124m'\u001b[39m, \u001b[38;5;124m'\u001b[39m\u001b[38;5;124m'\u001b[39m)\n\u001b[1;32m      4\u001b[0m \u001b[38;5;28mprint\u001b[39m(\u001b[38;5;124m\"\u001b[39m\u001b[38;5;124mThe .env file has been loaded\u001b[39m\u001b[38;5;124m\"\u001b[39m)\n\u001b[0;32m----> 5\u001b[0m \u001b[38;5;28mprint\u001b[39m(\u001b[38;5;124mf\u001b[39m\u001b[38;5;124m\"\u001b[39m\u001b[38;5;124mThe API key is: \u001b[39m\u001b[38;5;132;01m{\u001b[39;00m\u001b[43mOPENAI_API_KEY\u001b[49m\u001b[38;5;132;01m}\u001b[39;00m\u001b[38;5;124m\"\u001b[39m)\n",
      "\u001b[0;31mNameError\u001b[0m: name 'OPENAI_API_KEY' is not defined"
     ]
    }
   ],
   "source": [
    "# Load the .env file\n",
    "%load_ext dotenv\n",
    "%dotenv\n",
    "print(\"The .env file has been loaded\")\n",
    "print(f\"The API key is: {OPENAI_API_KEY}\")"
   ]
  },
  {
   "cell_type": "code",
   "execution_count": null,
   "metadata": {},
   "outputs": [],
   "source": [
    "from langchain_openai import ChatOpenAI\n",
    "llm = ChatOpenAI(openai_api_key=OPENAI_API_KEY)"
   ]
  },
  {
   "cell_type": "code",
   "execution_count": null,
   "metadata": {},
   "outputs": [],
   "source": [
    "llm.invoke(\"how can langsmith help with testing?\")"
   ]
  },
  {
   "cell_type": "code",
   "execution_count": null,
   "metadata": {},
   "outputs": [],
   "source": [
    "from langchain_core.prompts import ChatPromptTemplate\n",
    "prompt = ChatPromptTemplate.from_messages([\n",
    "    ('system', 'You are world class technical documentation writer.'),\n",
    "    ('user', '{input}')\n",
    "])\n"
   ]
  },
  {
   "cell_type": "code",
   "execution_count": null,
   "metadata": {},
   "outputs": [],
   "source": [
    "chain = prompt | llm\n",
    "chain.invoke({\"input\": \"how can langsmith help with testing?\"})"
   ]
  },
  {
   "cell_type": "code",
   "execution_count": null,
   "metadata": {},
   "outputs": [],
   "source": [
    "from langchain_core.output_parsers import StrOutputParser\n",
    "\n",
    "output_parser = StrOutputParser()"
   ]
  },
  {
   "cell_type": "code",
   "execution_count": null,
   "metadata": {},
   "outputs": [],
   "source": [
    "chain = prompt | llm | output_parser"
   ]
  },
  {
   "cell_type": "code",
   "execution_count": null,
   "metadata": {},
   "outputs": [],
   "source": [
    "chain.invoke({\"input\": \"how can langsmith help with testing?\"})"
   ]
  },
  {
   "cell_type": "code",
   "execution_count": null,
   "metadata": {},
   "outputs": [],
   "source": [
    "from langchain_community.document_loaders import WebBaseLoader\n",
    "loader = WebBaseLoader(\"https://docs.smith.langchain.com/overview\")\n",
    "\n",
    "docs = loader.load()"
   ]
  },
  {
   "cell_type": "code",
   "execution_count": null,
   "metadata": {},
   "outputs": [],
   "source": [
    "from langchain_openai import OpenAIEmbeddings\n",
    "embeddings = OpenAIEmbeddings(openai_api_key=OPENAI_API_KEY)\n"
   ]
  },
  {
   "cell_type": "code",
   "execution_count": null,
   "metadata": {},
   "outputs": [],
   "source": [
    "from langchain_community.vectorstores import FAISS\n",
    "from langchain.text_splitter import RecursiveCharacterTextSplitter\n",
    "\n",
    "text_splitter = RecursiveCharacterTextSplitter()\n",
    "documents = text_splitter.split_documents(docs)\n",
    "vector = FAISS.from_documents(documents, embeddings)\n",
    "vector"
   ]
  },
  {
   "cell_type": "code",
   "execution_count": null,
   "metadata": {},
   "outputs": [],
   "source": [
    "from langchain.chains.combine_documents import create_stuff_documents_chain\n",
    "\n",
    "prompt = ChatPromptTemplate.from_template(\"\"\"Answer the following question based only on the provided context:\n",
    "                                          <context>\n",
    "                                          {context}\n",
    "                                          </context>\n",
    "\n",
    "                                          Question: {input}\"\"\")\n",
    "document_chain = create_stuff_documents_chain(llm, prompt)"
   ]
  },
  {
   "cell_type": "code",
   "execution_count": null,
   "metadata": {},
   "outputs": [],
   "source": [
    "from langchain.chains import create_retrieval_chain\n",
    "retriever = vector.as_retriever()\n",
    "retrieval_chain = create_retrieval_chain(retriever, document_chain)"
   ]
  },
  {
   "cell_type": "code",
   "execution_count": null,
   "metadata": {},
   "outputs": [],
   "source": [
    "response = retrieval_chain.invoke({\"input\": \"how can langsmith help with testing?\"})\n",
    "print(response['answer'])"
   ]
  },
  {
   "cell_type": "code",
   "execution_count": null,
   "metadata": {},
   "outputs": [],
   "source": []
  }
 ],
 "metadata": {
  "kernelspec": {
   "display_name": "Python 3",
   "language": "python",
   "name": "python3"
  },
  "language_info": {
   "codemirror_mode": {
    "name": "ipython",
    "version": 3
   },
   "file_extension": ".py",
   "mimetype": "text/x-python",
   "name": "python",
   "nbconvert_exporter": "python",
   "pygments_lexer": "ipython3",
   "version": "3.11.7"
  },
  "polyglot_notebook": {
   "kernelInfo": {
    "defaultKernelName": "csharp",
    "items": [
     {
      "aliases": [],
      "name": "csharp"
     }
    ]
   }
  }
 },
 "nbformat": 4,
 "nbformat_minor": 2
}
