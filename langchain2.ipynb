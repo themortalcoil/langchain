{
 "cells": [
  {
   "cell_type": "markdown",
   "metadata": {},
   "source": [
    "[Tutorial URL](https://python.langchain.com/docs/get_started/quickstart)"
   ]
  },
  {
   "cell_type": "code",
   "execution_count": 22,
   "metadata": {
    "dotnet_interactive": {
     "language": "csharp"
    },
    "polyglot_notebook": {
     "kernelName": "csharp"
    }
   },
   "outputs": [
    {
     "name": "stdout",
     "output_type": "stream",
     "text": [
      "\u001b[1mLoading .env environment variables...\u001b[0m\n",
      "\u001b[32m\u001b[1mInstalling langchain-openai...\u001b[0m\n",
      "\u001b[K\u001b[1mAdding\u001b[0m \u001b[32m\u001b[1mlangchain-openai\u001b[0m \u001b[1mto Pipfile's\u001b[0m \u001b[33m\u001b[1m[packages]\u001b[0m\u001b[1m...\u001b[0m\n",
      "\u001b[K\u001b[?25h✔ Installation Succeeded\u001b[0m \n",
      "\u001b[1mInstalling dependencies from Pipfile.lock (acd786)...\u001b[0m\n",
      "\u001b[0m\u001b[1mLoading .env environment variables...\u001b[0m\n",
      "\u001b[32m\u001b[1mInstalling beautifulsoup4...\u001b[0m\n",
      "\u001b[K\u001b[1mAdding\u001b[0m \u001b[32m\u001b[1mbeautifulsoup4\u001b[0m \u001b[1mto Pipfile's\u001b[0m \u001b[33m\u001b[1m[packages]\u001b[0m\u001b[1m...\u001b[0m\n",
      "\u001b[K\u001b[?25h✔ Installation Succeeded\u001b[0m \n",
      "\u001b[1mInstalling dependencies from Pipfile.lock (acd786)...\u001b[0m\n",
      "\u001b[0m\u001b[1mLoading .env environment variables...\u001b[0m\n",
      "\u001b[32m\u001b[1mInstalling langchain-community...\u001b[0m\n",
      "\u001b[K\u001b[1mAdding\u001b[0m \u001b[32m\u001b[1mlangchain-community\u001b[0m \u001b[1mto Pipfile's\u001b[0m \u001b[33m\u001b[1m[packages]\u001b[0m\u001b[1m...\u001b[0m\n",
      "\u001b[K\u001b[?25h✔ Installation Succeeded\u001b[0m \n",
      "\u001b[1mInstalling dependencies from Pipfile.lock (acd786)...\u001b[0m\n",
      "\u001b[0m\u001b[1mLoading .env environment variables...\u001b[0m\n",
      "\u001b[32m\u001b[1mInstalling faiss-cpu...\u001b[0m\n",
      "\u001b[K\u001b[1mAdding\u001b[0m \u001b[32m\u001b[1mfaiss-cpu\u001b[0m \u001b[1mto Pipfile's\u001b[0m \u001b[33m\u001b[1m[packages]\u001b[0m\u001b[1m...\u001b[0m\n",
      "\u001b[K\u001b[?25h✔ Installation Succeeded\u001b[0m \n",
      "\u001b[1mInstalling dependencies from Pipfile.lock (acd786)...\u001b[0m\n",
      "\u001b[0m\u001b[1mLoading .env environment variables...\u001b[0m\n",
      "\u001b[32m\u001b[1mInstalling langchain...\u001b[0m\n",
      "\u001b[K\u001b[1mAdding\u001b[0m \u001b[32m\u001b[1mlangchain\u001b[0m \u001b[1mto Pipfile's\u001b[0m \u001b[33m\u001b[1m[packages]\u001b[0m\u001b[1m...\u001b[0m\n",
      "\u001b[K\u001b[?25h✔ Installation Succeeded\u001b[0m \n",
      "\u001b[1mInstalling dependencies from Pipfile.lock (acd786)...\u001b[0m\n",
      "\u001b[0m\u001b[1mLoading .env environment variables...\u001b[0m\n",
      "\u001b[32m\u001b[1mInstalling python-dotenv...\u001b[0m\n",
      "\u001b[K\u001b[1mAdding\u001b[0m \u001b[32m\u001b[1mpython-dotenv\u001b[0m \u001b[1mto Pipfile's\u001b[0m \u001b[33m\u001b[1m[packages]\u001b[0m\u001b[1m...\u001b[0m\n",
      "\u001b[K\u001b[?25h✔ Installation Succeeded\u001b[0m \n",
      "\u001b[1mInstalling dependencies from Pipfile.lock (acd786)...\u001b[0m\n",
      "\u001b[0m"
     ]
    }
   ],
   "source": [
    "# Install the required packages\n",
    "\n",
    "!pipenv install langchain-openai\n",
    "!pipenv install beautifulsoup4\n",
    "!pipenv install langchain-community\n",
    "!pipenv install faiss-cpu\n",
    "!pipenv install langchain\n",
    "!pipenv install python-dotenv"
   ]
  },
  {
   "cell_type": "code",
   "execution_count": 23,
   "metadata": {},
   "outputs": [],
   "source": [
    "# Load the .env file\n",
    "%reload_ext dotenv\n",
    "%dotenv\n",
    "# get the OPENAI_API_KEY from the .env file\n",
    "OPENAI_API_KEY = %env OPENAI_API_KEY"
   ]
  },
  {
   "cell_type": "code",
   "execution_count": 24,
   "metadata": {},
   "outputs": [],
   "source": [
    "from langchain_openai import ChatOpenAI\n",
    "llm = ChatOpenAI(openai_api_key=OPENAI_API_KEY)"
   ]
  },
  {
   "cell_type": "code",
   "execution_count": 25,
   "metadata": {},
   "outputs": [
    {
     "data": {
      "text/plain": [
       "AIMessage(content='Langsmith can help with testing in several ways:\\n\\n1. Test case generation: Langsmith can automatically generate test cases based on specifications or model-based testing techniques. This reduces the manual effort required to create test cases and ensures better test coverage.\\n\\n2. Test execution: Langsmith can execute test cases automatically, reducing the need for manual execution. This saves time and effort and allows for more efficient testing.\\n\\n3. Test data generation: Langsmith can generate test data automatically, ensuring a comprehensive and diverse set of inputs for testing. This helps uncover potential issues and improve test coverage.\\n\\n4. Test result analysis: Langsmith can analyze test results and provide insights into the effectiveness of the tests. It can identify patterns, detect failures, and highlight areas that require further attention or improvement.\\n\\n5. Test automation: Langsmith can automate repetitive testing tasks, such as regression testing, integration testing, and performance testing. This saves time and effort and allows testers to focus on more complex and critical testing activities.\\n\\nOverall, Langsmith helps streamline the testing process, improve test coverage, and increase the efficiency and effectiveness of testing efforts.')"
      ]
     },
     "execution_count": 25,
     "metadata": {},
     "output_type": "execute_result"
    }
   ],
   "source": [
    "llm.invoke(\"how can langsmith help with testing?\")"
   ]
  },
  {
   "cell_type": "code",
   "execution_count": 26,
   "metadata": {},
   "outputs": [],
   "source": [
    "from langchain_core.prompts import ChatPromptTemplate\n",
    "prompt = ChatPromptTemplate.from_messages([\n",
    "    ('system', 'You are world class technical documentation writer.'),\n",
    "    ('user', '{input}')\n",
    "])\n"
   ]
  },
  {
   "cell_type": "code",
   "execution_count": 27,
   "metadata": {},
   "outputs": [
    {
     "data": {
      "text/plain": [
       "AIMessage(content=\"Langsmith is an advanced natural language processing (NLP) tool that can be a valuable asset in testing various software applications. Here's how Langsmith can help with testing:\\n\\n1. Test case generation: Langsmith can generate test cases automatically by analyzing the functional requirements and specifications of the software application. It can understand the intended behavior of the system and create a wide range of test scenarios, covering different inputs, outputs, and edge cases.\\n\\n2. Test data generation: Langsmith can generate realistic and diverse test data based on the application's requirements. It can create a variety of inputs, such as valid and invalid data, boundary values, and random inputs, to thoroughly test the software's input validation and processing capabilities.\\n\\n3. Test automation: Langsmith can automate the execution of test cases by integrating with popular testing frameworks. It can execute tests, compare expected and actual outcomes, and generate comprehensive test reports. This helps in speeding up the testing process and ensuring consistent and reliable results.\\n\\n4. Natural language understanding testing: If the software application involves natural language processing or understanding, Langsmith can be used to test the accuracy and performance of these components. It can simulate user inputs with different language variations and analyze the system's responses to ensure correct interpretation and appropriate actions.\\n\\n5. Error detection and correction: Langsmith can analyze system logs, error messages, and exception traces to identify potential issues and suggest corrective actions. It can help in identifying and resolving bugs, improving the overall quality of the software application.\\n\\n6. Performance testing: Langsmith can simulate user interactions and workload scenarios to evaluate the performance and scalability of the application. It can generate a high volume of requests and measure response times, resource consumption, and system stability under different load conditions.\\n\\n7. User experience testing: Using its NLP capabilities, Langsmith can analyze user interface elements, such as labels, tooltips, and error messages, to ensure clarity, consistency, and usability. It can also simulate user interactions and validate the application's responsiveness and user-friendly behavior.\\n\\nOverall, Langsmith can enhance the testing process by providing intelligent and automated capabilities to generate test cases, data, and reports, as well as identifying and resolving issues. It helps in ensuring the quality, reliability, and performance of software applications.\")"
      ]
     },
     "execution_count": 27,
     "metadata": {},
     "output_type": "execute_result"
    }
   ],
   "source": [
    "chain = prompt | llm\n",
    "chain.invoke({\"input\": \"how can langsmith help with testing?\"})"
   ]
  },
  {
   "cell_type": "code",
   "execution_count": 28,
   "metadata": {},
   "outputs": [],
   "source": [
    "from langchain_core.output_parsers import StrOutputParser\n",
    "\n",
    "output_parser = StrOutputParser()"
   ]
  },
  {
   "cell_type": "code",
   "execution_count": 29,
   "metadata": {},
   "outputs": [],
   "source": [
    "chain = prompt | llm | output_parser"
   ]
  },
  {
   "cell_type": "code",
   "execution_count": 30,
   "metadata": {},
   "outputs": [
    {
     "data": {
      "text/plain": [
       "\"Langsmith can significantly assist with testing by providing a comprehensive set of features and tools that streamline the testing process. Here are some ways in which Langsmith can be beneficial for testing:\\n\\n1. Test Automation: Langsmith offers a powerful scripting language that allows testers to automate various testing tasks. Test scripts can be created to simulate user interactions, perform data validation, and execute complex test scenarios.\\n\\n2. Test Data Generation: Langsmith provides capabilities to generate test data dynamically. Testers can create scripts to generate a wide range of data types, including random and realistic data, to ensure comprehensive test coverage.\\n\\n3. Test Case Management: Langsmith includes features for managing test cases, such as creating, organizing, and tracking test cases. Testers can document test steps, expected results, and actual results, facilitating efficient test case execution and reporting.\\n\\n4. Test Reporting and Analysis: Langsmith offers reporting and analysis features that enable testers to generate detailed reports on test execution results. These reports can help identify trends, track test coverage, and identify areas for improvement in the testing process.\\n\\n5. Integration with Testing Tools: Langsmith can integrate with various testing tools and frameworks, such as test management systems, bug tracking tools, and continuous integration systems. This integration allows testers to seamlessly incorporate Langsmith scripts into their existing testing ecosystem.\\n\\n6. Cross-platform Testing: Langsmith supports testing across multiple platforms, including web, mobile, and desktop applications. Testers can write platform-independent scripts that can be executed on different operating systems and browsers, reducing the effort required for cross-platform testing.\\n\\n7. Test Environment Configuration: Langsmith provides capabilities to configure the test environment, including setting up test data, preconditions, and test dependencies. Testers can ensure that the test environment is properly prepared for each test execution, leading to more accurate and reliable results.\\n\\nBy leveraging Langsmith's testing capabilities, testers can save time, improve test coverage, enhance accuracy, and streamline their overall testing process.\""
      ]
     },
     "execution_count": 30,
     "metadata": {},
     "output_type": "execute_result"
    }
   ],
   "source": [
    "chain.invoke({\"input\": \"how can langsmith help with testing?\"})"
   ]
  },
  {
   "cell_type": "code",
   "execution_count": 31,
   "metadata": {},
   "outputs": [],
   "source": [
    "from langchain_community.document_loaders import WebBaseLoader\n",
    "loader = WebBaseLoader(\"https://docs.smith.langchain.com/overview\")\n",
    "\n",
    "docs = loader.load()"
   ]
  },
  {
   "cell_type": "code",
   "execution_count": 32,
   "metadata": {},
   "outputs": [],
   "source": [
    "from langchain_openai import OpenAIEmbeddings\n",
    "embeddings = OpenAIEmbeddings(openai_api_key=OPENAI_API_KEY)\n"
   ]
  },
  {
   "cell_type": "code",
   "execution_count": 33,
   "metadata": {},
   "outputs": [
    {
     "data": {
      "text/plain": [
       "<langchain_community.vectorstores.faiss.FAISS at 0x11f9ed9d0>"
      ]
     },
     "execution_count": 33,
     "metadata": {},
     "output_type": "execute_result"
    }
   ],
   "source": [
    "from langchain_community.vectorstores import FAISS\n",
    "from langchain.text_splitter import RecursiveCharacterTextSplitter\n",
    "\n",
    "text_splitter = RecursiveCharacterTextSplitter()\n",
    "documents = text_splitter.split_documents(docs)\n",
    "vector = FAISS.from_documents(documents, embeddings)\n",
    "vector"
   ]
  },
  {
   "cell_type": "code",
   "execution_count": 34,
   "metadata": {},
   "outputs": [],
   "source": [
    "from langchain.chains.combine_documents import create_stuff_documents_chain\n",
    "\n",
    "prompt = ChatPromptTemplate.from_template(\"\"\"Answer the following question based only on the provided context:\n",
    "                                          <context>\n",
    "                                          {context}\n",
    "                                          </context>\n",
    "\n",
    "                                          Question: {input}\"\"\")\n",
    "document_chain = create_stuff_documents_chain(llm, prompt)"
   ]
  },
  {
   "cell_type": "code",
   "execution_count": 35,
   "metadata": {},
   "outputs": [],
   "source": [
    "from langchain.chains import create_retrieval_chain\n",
    "retriever = vector.as_retriever()\n",
    "retrieval_chain = create_retrieval_chain(retriever, document_chain)"
   ]
  },
  {
   "cell_type": "code",
   "execution_count": 36,
   "metadata": {},
   "outputs": [
    {
     "name": "stdout",
     "output_type": "stream",
     "text": [
      "LangSmith can help with testing in the following ways:\n",
      "\n",
      "1. Dataset Construction: LangSmith simplifies the process of curating datasets, which can be used for testing. These datasets can be easily exported for use in other contexts, such as OpenAI Evals or fine-tuning.\n",
      "\n",
      "2. Running Chains over Data Points: LangSmith allows you to run chains over data points from a dataset and visualize the outputs. This can help in evaluating the performance of the model and identifying any issues or improvements needed.\n",
      "\n",
      "3. Providing Feedback and Evaluation: LangSmith enables the association of feedback programmatically with runs. This feedback can be used to track performance over time and pinpoint underperforming data points. LangSmith also provides evaluators in the open-source LangChain library to evaluate the results of test runs.\n",
      "\n",
      "4. Human Evaluation: While automatic evaluation metrics are helpful, LangSmith recognizes the importance of human review for assessing subjective qualities and validating automatic metrics. Annotation queues in LangSmith allow for manual review and annotation of runs, ensuring the utmost quality and reliability of the application.\n",
      "\n",
      "Overall, LangSmith offers various features and functionalities that facilitate testing and evaluation of LLM applications.\n"
     ]
    }
   ],
   "source": [
    "response = retrieval_chain.invoke({\"input\": \"how can langsmith help with testing?\"})\n",
    "print(response['answer'])"
   ]
  },
  {
   "cell_type": "code",
   "execution_count": null,
   "metadata": {},
   "outputs": [],
   "source": []
  }
 ],
 "metadata": {
  "kernelspec": {
   "display_name": "Python 3",
   "language": "python",
   "name": "python3"
  },
  "language_info": {
   "codemirror_mode": {
    "name": "ipython",
    "version": 3
   },
   "file_extension": ".py",
   "mimetype": "text/x-python",
   "name": "python",
   "nbconvert_exporter": "python",
   "pygments_lexer": "ipython3",
   "version": "3.11.7"
  },
  "polyglot_notebook": {
   "kernelInfo": {
    "defaultKernelName": "csharp",
    "items": [
     {
      "aliases": [],
      "name": "csharp"
     }
    ]
   }
  }
 },
 "nbformat": 4,
 "nbformat_minor": 2
}
